{
 "cells": [
  {
   "cell_type": "code",
   "execution_count": 1,
   "metadata": {},
   "outputs": [],
   "source": [
    "import pandas as pd\n",
    "from sklearn.preprocessing import StandardScaler\n",
    "from sklearn.decomposition import PCA\n",
    "from sklearn.cluster import KMeans\n",
    "import matplotlib.pyplot as plt\n",
    "from sklearn.manifold import TSNE"
   ]
  },
  {
   "cell_type": "code",
   "execution_count": 2,
   "metadata": {},
   "outputs": [],
   "source": [
    "file_path=\"crypto_data.csv\"\n",
    "df = pd.read_csv('crypto_data.csv', index_col=0)"
   ]
  },
  {
   "cell_type": "code",
   "execution_count": 3,
   "metadata": {},
   "outputs": [
    {
     "data": {
      "text/html": [
       "<div>\n",
       "<style scoped>\n",
       "    .dataframe tbody tr th:only-of-type {\n",
       "        vertical-align: middle;\n",
       "    }\n",
       "\n",
       "    .dataframe tbody tr th {\n",
       "        vertical-align: top;\n",
       "    }\n",
       "\n",
       "    .dataframe thead th {\n",
       "        text-align: right;\n",
       "    }\n",
       "</style>\n",
       "<table border=\"1\" class=\"dataframe\">\n",
       "  <thead>\n",
       "    <tr style=\"text-align: right;\">\n",
       "      <th></th>\n",
       "      <th>CoinName</th>\n",
       "      <th>Algorithm</th>\n",
       "      <th>IsTrading</th>\n",
       "      <th>ProofType</th>\n",
       "      <th>TotalCoinsMined</th>\n",
       "      <th>TotalCoinSupply</th>\n",
       "    </tr>\n",
       "  </thead>\n",
       "  <tbody>\n",
       "    <tr>\n",
       "      <th>42</th>\n",
       "      <td>42 Coin</td>\n",
       "      <td>Scrypt</td>\n",
       "      <td>True</td>\n",
       "      <td>PoW/PoS</td>\n",
       "      <td>4.199995e+01</td>\n",
       "      <td>42</td>\n",
       "    </tr>\n",
       "    <tr>\n",
       "      <th>365</th>\n",
       "      <td>365Coin</td>\n",
       "      <td>X11</td>\n",
       "      <td>True</td>\n",
       "      <td>PoW/PoS</td>\n",
       "      <td>NaN</td>\n",
       "      <td>2300000000</td>\n",
       "    </tr>\n",
       "    <tr>\n",
       "      <th>404</th>\n",
       "      <td>404Coin</td>\n",
       "      <td>Scrypt</td>\n",
       "      <td>True</td>\n",
       "      <td>PoW/PoS</td>\n",
       "      <td>1.055185e+09</td>\n",
       "      <td>532000000</td>\n",
       "    </tr>\n",
       "    <tr>\n",
       "      <th>611</th>\n",
       "      <td>SixEleven</td>\n",
       "      <td>SHA-256</td>\n",
       "      <td>True</td>\n",
       "      <td>PoW</td>\n",
       "      <td>NaN</td>\n",
       "      <td>611000</td>\n",
       "    </tr>\n",
       "    <tr>\n",
       "      <th>808</th>\n",
       "      <td>808</td>\n",
       "      <td>SHA-256</td>\n",
       "      <td>True</td>\n",
       "      <td>PoW/PoS</td>\n",
       "      <td>0.000000e+00</td>\n",
       "      <td>0</td>\n",
       "    </tr>\n",
       "    <tr>\n",
       "      <th>...</th>\n",
       "      <td>...</td>\n",
       "      <td>...</td>\n",
       "      <td>...</td>\n",
       "      <td>...</td>\n",
       "      <td>...</td>\n",
       "      <td>...</td>\n",
       "    </tr>\n",
       "    <tr>\n",
       "      <th>XBC</th>\n",
       "      <td>BitcoinPlus</td>\n",
       "      <td>Scrypt</td>\n",
       "      <td>True</td>\n",
       "      <td>PoS</td>\n",
       "      <td>1.283270e+05</td>\n",
       "      <td>1000000</td>\n",
       "    </tr>\n",
       "    <tr>\n",
       "      <th>DVTC</th>\n",
       "      <td>DivotyCoin</td>\n",
       "      <td>Scrypt</td>\n",
       "      <td>False</td>\n",
       "      <td>PoW/PoS</td>\n",
       "      <td>2.149121e+07</td>\n",
       "      <td>100000000</td>\n",
       "    </tr>\n",
       "    <tr>\n",
       "      <th>GIOT</th>\n",
       "      <td>Giotto Coin</td>\n",
       "      <td>Scrypt</td>\n",
       "      <td>False</td>\n",
       "      <td>PoW/PoS</td>\n",
       "      <td>NaN</td>\n",
       "      <td>233100000</td>\n",
       "    </tr>\n",
       "    <tr>\n",
       "      <th>OPSC</th>\n",
       "      <td>OpenSourceCoin</td>\n",
       "      <td>SHA-256</td>\n",
       "      <td>False</td>\n",
       "      <td>PoW/PoS</td>\n",
       "      <td>NaN</td>\n",
       "      <td>21000000</td>\n",
       "    </tr>\n",
       "    <tr>\n",
       "      <th>PUNK</th>\n",
       "      <td>SteamPunk</td>\n",
       "      <td>PoS</td>\n",
       "      <td>False</td>\n",
       "      <td>PoS</td>\n",
       "      <td>NaN</td>\n",
       "      <td>40000000</td>\n",
       "    </tr>\n",
       "  </tbody>\n",
       "</table>\n",
       "<p>1252 rows × 6 columns</p>\n",
       "</div>"
      ],
      "text/plain": [
       "            CoinName Algorithm  IsTrading ProofType  TotalCoinsMined  \\\n",
       "42           42 Coin    Scrypt       True   PoW/PoS     4.199995e+01   \n",
       "365          365Coin       X11       True   PoW/PoS              NaN   \n",
       "404          404Coin    Scrypt       True   PoW/PoS     1.055185e+09   \n",
       "611        SixEleven   SHA-256       True       PoW              NaN   \n",
       "808              808   SHA-256       True   PoW/PoS     0.000000e+00   \n",
       "...              ...       ...        ...       ...              ...   \n",
       "XBC      BitcoinPlus    Scrypt       True       PoS     1.283270e+05   \n",
       "DVTC      DivotyCoin    Scrypt      False   PoW/PoS     2.149121e+07   \n",
       "GIOT     Giotto Coin    Scrypt      False   PoW/PoS              NaN   \n",
       "OPSC  OpenSourceCoin   SHA-256      False   PoW/PoS              NaN   \n",
       "PUNK       SteamPunk       PoS      False       PoS              NaN   \n",
       "\n",
       "     TotalCoinSupply  \n",
       "42                42  \n",
       "365       2300000000  \n",
       "404        532000000  \n",
       "611           611000  \n",
       "808                0  \n",
       "...              ...  \n",
       "XBC          1000000  \n",
       "DVTC       100000000  \n",
       "GIOT       233100000  \n",
       "OPSC        21000000  \n",
       "PUNK        40000000  \n",
       "\n",
       "[1252 rows x 6 columns]"
      ]
     },
     "execution_count": 3,
     "metadata": {},
     "output_type": "execute_result"
    }
   ],
   "source": [
    "df"
   ]
  },
  {
   "cell_type": "code",
   "execution_count": 4,
   "metadata": {},
   "outputs": [],
   "source": [
    "df=df[df[\"IsTrading\"]==True]\n",
    "df=df.drop(\"IsTrading\",axis=1)\n",
    "df=df.dropna()\n",
    "df=df[df[\"TotalCoinsMined\"]>0]\n",
    "df=df.drop(\"CoinName\",axis=1)\n",
    "# df=df.drop(\"Unnamed: 0\",axis=1)"
   ]
  },
  {
   "cell_type": "code",
   "execution_count": 5,
   "metadata": {},
   "outputs": [],
   "source": [
    "df[\"TotalCoinSupply\"] = pd.to_numeric(df[\"TotalCoinSupply\"])"
   ]
  },
  {
   "cell_type": "code",
   "execution_count": 6,
   "metadata": {},
   "outputs": [
    {
     "data": {
      "text/plain": [
       "Algorithm           object\n",
       "ProofType           object\n",
       "TotalCoinsMined    float64\n",
       "TotalCoinSupply    float64\n",
       "dtype: object"
      ]
     },
     "execution_count": 6,
     "metadata": {},
     "output_type": "execute_result"
    }
   ],
   "source": [
    "df.dtypes"
   ]
  },
  {
   "cell_type": "code",
   "execution_count": 7,
   "metadata": {},
   "outputs": [],
   "source": [
    "df=pd.get_dummies(df)"
   ]
  },
  {
   "cell_type": "code",
   "execution_count": 8,
   "metadata": {},
   "outputs": [
    {
     "data": {
      "text/plain": [
       "(532, 98)"
      ]
     },
     "execution_count": 8,
     "metadata": {},
     "output_type": "execute_result"
    }
   ],
   "source": [
    "df.shape"
   ]
  },
  {
   "cell_type": "code",
   "execution_count": 9,
   "metadata": {},
   "outputs": [
    {
     "data": {
      "text/plain": [
       "array([[-0.11710817, -0.1528703 , -0.0433963 , ..., -0.0433963 ,\n",
       "        -0.0433963 , -0.0433963 ],\n",
       "       [-0.09396955, -0.145009  , -0.0433963 , ..., -0.0433963 ,\n",
       "        -0.0433963 , -0.0433963 ],\n",
       "       [ 0.52494561,  4.48942416, -0.0433963 , ..., -0.0433963 ,\n",
       "        -0.0433963 , -0.0433963 ],\n",
       "       ...,\n",
       "       [-0.09561336, -0.13217937, -0.0433963 , ..., -0.0433963 ,\n",
       "        -0.0433963 , -0.0433963 ],\n",
       "       [-0.11694817, -0.15255998, -0.0433963 , ..., -0.0433963 ,\n",
       "        -0.0433963 , -0.0433963 ],\n",
       "       [-0.11710536, -0.15285552, -0.0433963 , ..., -0.0433963 ,\n",
       "        -0.0433963 , -0.0433963 ]])"
      ]
     },
     "execution_count": 9,
     "metadata": {},
     "output_type": "execute_result"
    }
   ],
   "source": [
    "df_scaled = StandardScaler().fit_transform(df)\n",
    "df_scaled"
   ]
  },
  {
   "cell_type": "code",
   "execution_count": 10,
   "metadata": {},
   "outputs": [
    {
     "data": {
      "text/plain": [
       "(532, 74)"
      ]
     },
     "execution_count": 10,
     "metadata": {},
     "output_type": "execute_result"
    }
   ],
   "source": [
    "pca = PCA(n_components=0.9)\n",
    "pca = pca.fit_transform(df_scaled)\n",
    "pca.shape"
   ]
  },
  {
   "cell_type": "code",
   "execution_count": 11,
   "metadata": {},
   "outputs": [
    {
     "data": {
      "text/plain": [
       "(532, 2)"
      ]
     },
     "execution_count": 11,
     "metadata": {},
     "output_type": "execute_result"
    }
   ],
   "source": [
    "tsne = TSNE(learning_rate=90)\n",
    "tsne_features = tsne.fit_transform(pca)\n",
    "tsne_features.shape"
   ]
  },
  {
   "cell_type": "code",
   "execution_count": 12,
   "metadata": {},
   "outputs": [
    {
     "data": {
      "image/png": "[encoded data removed]",
      "text/plain": [
       "<Figure size 432x288 with 1 Axes>"
      ]
     },
     "metadata": {
      "needs_background": "light"
     },
     "output_type": "display_data"
    }
   ],
   "source": [
    "plt.scatter(tsne_features[:,0], tsne_features[:,1])\n",
    "plt.show()"
   ]
  },
  {
   "cell_type": "code",
   "execution_count": 13,
   "metadata": {},
   "outputs": [
    {
     "data": {
      "image/png": "[encoded data removed]",
      "text/plain": [
       "<Figure size 432x288 with 1 Axes>"
      ]
     },
     "metadata": {
      "needs_background": "light"
     },
     "output_type": "display_data"
    }
   ],
   "source": [
    "inertia = []\n",
    "k = list(range(1, 10))\n",
    "\n",
    "# Calculate the inertia for the range of k values\n",
    "for i in k:\n",
    "    km = KMeans(n_clusters=i, random_state=0)\n",
    "    km.fit(pca)\n",
    "    inertia.append(km.inertia_)\n",
    "\n",
    "# Creating the Elbow Curve\n",
    "elbow_data = {\"k\": k, \"inertia\": inertia}\n",
    "df_elbow = pd.DataFrame(elbow_data)\n",
    "\n",
    "plt.plot(df_elbow['k'], df_elbow['inertia'])\n",
    "plt.xticks(list(range(11)))\n",
    "plt.title('Elbow Curve')\n",
    "plt.xlabel('Number of clusters')\n",
    "plt.ylabel('Inertia')\n",
    "plt.show()"
   ]
  },
  {
   "cell_type": "code",
   "execution_count": 14,
   "metadata": {},
   "outputs": [],
   "source": [
    "model = KMeans(n_clusters=6, random_state=0)\n",
    "\n",
    "# Fit the model\n",
    "model.fit(pca)\n",
    "\n",
    "# Predict clusters\n",
    "predictions = model.predict(pca)\n"
   ]
  },
  {
   "cell_type": "code",
   "execution_count": 15,
   "metadata": {},
   "outputs": [
    {
     "data": {
      "text/plain": [
       "<matplotlib.collections.PathCollection at 0x7f8983231430>"
      ]
     },
     "execution_count": 15,
     "metadata": {},
     "output_type": "execute_result"
    },
    {
     "data": {
      "image/png": "[encoded data removed]",
      "text/plain": [
       "<Figure size 432x288 with 1 Axes>"
      ]
     },
     "metadata": {
      "needs_background": "light"
     },
     "output_type": "display_data"
    }
   ],
   "source": [
    "plt.scatter(tsne_features[:,0], tsne_features[:,1],c=predictions)"
   ]
  },
  {
   "cell_type": "markdown",
   "metadata": {},
   "source": [
    "Its very hard to markdown cryptocurrency into clusters but they can be roughly separated into 5 clusters."
   ]
  },
  {
   "cell_type": "code",
   "execution_count": null,
   "metadata": {},
   "outputs": [],
   "source": []
  }
 ],
 "metadata": {
  "interpreter": {
   "hash": "35064e4647d918919957601a962ccfc195ccef2a9039bcab9408ddcbd35a3800"
  },
  "kernelspec": {
   "display_name": "Python 3.8.8 64-bit ('base': conda)",
   "name": "python3"
  },
  "language_info": {
   "codemirror_mode": {
    "name": "ipython",
    "version": 3
   },
   "file_extension": ".py",
   "mimetype": "text/x-python",
   "name": "python",
   "nbconvert_exporter": "python",
   "pygments_lexer": "ipython3",
   "version": "3.8.8"
  },
  "orig_nbformat": 4
 },
 "nbformat": 4,
 "nbformat_minor": 2
}
